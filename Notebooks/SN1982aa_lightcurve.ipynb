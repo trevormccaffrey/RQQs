{
 "cells": [
  {
   "cell_type": "markdown",
   "id": "3595e52d",
   "metadata": {},
   "source": [
    "Check the variability timescales of the unusually luminous supernova SN1982aa, based on the fitting by Yin (1994, ApJ 420, 172).\n",
    "\n",
    "At 20 cm, the flux density of the supernova follows:\n",
    "\n",
    "$$ S_\\nu(\\lambda) = const.(\\frac{t-t_0}{t_{20}})^{-(\\gamma+5-6m)/2} \\cdot exp[(\\frac{t-t_0}{t_{20}})^{-3m}] $$\n",
    "\n",
    "with\n",
    "* $t_0 =$ 1979 Aug 16\n",
    "* $t_{20} = 876$\n",
    "* $const = 36.3$\n",
    "* $\\gamma = 2.52$\n",
    "* $m=0.83$"
   ]
  },
  {
   "cell_type": "code",
   "execution_count": 1,
   "id": "d9b92d0f",
   "metadata": {},
   "outputs": [],
   "source": [
    "import numpy as np\n",
    "import matplotlib.pyplot as plt\n",
    "\n",
    "t0 = 0\n",
    "t20 = 876\n",
    "const = 36.3\n",
    "gamma = 2.52\n",
    "m = 0.83\n",
    "\n",
    "def Snu(t):\n",
    "    return const*((t-t0)/t20)**(-1.*(gamma+5-6*m)/2) * np.exp(-1*((t-t0)/t20)**(-3*m))"
   ]
  },
  {
   "cell_type": "code",
   "execution_count": 2,
   "id": "4fb8a4ed",
   "metadata": {},
   "outputs": [
    {
     "data": {
      "text/plain": [
       "0.0"
      ]
     },
     "execution_count": 2,
     "metadata": {},
     "output_type": "execute_result"
    }
   ],
   "source": [
    "Snu(10)"
   ]
  },
  {
   "cell_type": "code",
   "execution_count": 3,
   "id": "0e7f9b76",
   "metadata": {},
   "outputs": [],
   "source": [
    "tlist = np.arange(100,50000,1)\n",
    "St = Snu(tlist)"
   ]
  },
  {
   "cell_type": "code",
   "execution_count": 4,
   "id": "bcdbbdad",
   "metadata": {},
   "outputs": [
    {
     "data": {
      "text/plain": [
       "Text(0.5, 0, '$t$ (days)')"
      ]
     },
     "execution_count": 4,
     "metadata": {},
     "output_type": "execute_result"
    },
    {
     "data": {
      "image/png": "[encoded data removed]",
      "text/plain": [
       "<Figure size 432x288 with 1 Axes>"
      ]
     },
     "metadata": {
      "needs_background": "light"
     },
     "output_type": "display_data"
    }
   ],
   "source": [
    "plt.plot(tlist, St)\n",
    "plt.yscale(\"log\")\n",
    "plt.xscale(\"log\")\n",
    "plt.xlim(10**2,10**4)\n",
    "plt.ylim(10**-1,10**1.6)\n",
    "plt.ylabel(\"$S_\\mathrm{20cm}$\")\n",
    "plt.xlabel(\"$t$ (days)\")"
   ]
  },
  {
   "cell_type": "markdown",
   "id": "2294f69d",
   "metadata": {},
   "source": [
    "Now we want to know the timescale the supernova remains with $X\\%$ of its peak luminosity."
   ]
  },
  {
   "cell_type": "code",
   "execution_count": 5,
   "id": "6ffc8034",
   "metadata": {},
   "outputs": [],
   "source": [
    "#\n",
    "p = 0.20\n",
    "def p_within_peak(p):\n",
    "    #locate peak of SN curve\n",
    "    ind_peak = np.argmax(St)\n",
    "    Speak = St[ind_peak]\n",
    "    \n",
    "    #determine flux density within p% of peak\n",
    "    Sdrop = Speak*(1-p)\n",
    "    \n",
    "    #want to now time of Sdrop before+after peak\n",
    "    ind_drop_left  = np.argmin(np.abs(St[:ind_peak]-Sdrop))\n",
    "    ind_drop_right = np.argmin(np.abs(St[ind_peak:]-Sdrop))\n",
    "    t_left  = tlist[:ind_peak][ind_drop_left]\n",
    "    t_right = tlist[ind_peak:][ind_drop_right]\n",
    "    \n",
    "    #t in days; return in years\n",
    "    return (t_right-t_left)*(1/365.25)"
   ]
  },
  {
   "cell_type": "code",
   "execution_count": 6,
   "id": "13746ff8",
   "metadata": {},
   "outputs": [
    {
     "name": "stdout",
     "output_type": "stream",
     "text": [
      "Time within 0% of peak luminosity: 0.00 yr\n",
      "Time within 10% of peak luminosity: 1.71 yr\n",
      "Time within 20% of peak luminosity: 2.63 yr\n",
      "Time within 30% of peak luminosity: 3.56 yr\n",
      "Time within 40% of peak luminosity: 4.61 yr\n",
      "Time within 50% of peak luminosity: 5.90 yr\n",
      "Time within 60% of peak luminosity: 7.65 yr\n",
      "Time within 70% of peak luminosity: 10.29 yr\n",
      "Time within 80% of peak luminosity: 15.04 yr\n",
      "Time within 90% of peak luminosity: 27.34 yr\n",
      "Time within 100% of peak luminosity: 136.62 yr\n"
     ]
    }
   ],
   "source": [
    "for p in np.arange(0,1.1,0.1):\n",
    "    print(\"Time within %.f%% of peak luminosity: %.2f yr\" % (int(p*100), p_within_peak(p)))"
   ]
  },
  {
   "cell_type": "code",
   "execution_count": null,
   "id": "64e2d17b",
   "metadata": {},
   "outputs": [],
   "source": []
  }
 ],
 "metadata": {
  "kernelspec": {
   "display_name": "Python 3",
   "language": "python",
   "name": "python3"
  },
  "language_info": {
   "codemirror_mode": {
    "name": "ipython",
    "version": 3
   },
   "file_extension": ".py",
   "mimetype": "text/x-python",
   "name": "python",
   "nbconvert_exporter": "python",
   "pygments_lexer": "ipython3",
   "version": "3.6.10"
  }
 },
 "nbformat": 4,
 "nbformat_minor": 5
}
