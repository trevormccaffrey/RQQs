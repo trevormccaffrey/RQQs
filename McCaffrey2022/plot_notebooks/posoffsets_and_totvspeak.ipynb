{
 "cells": [
  {
   "cell_type": "code",
   "execution_count": 1,
   "metadata": {},
   "outputs": [
    {
     "name": "stderr",
     "output_type": "stream",
     "text": [
      "/opt/anaconda3/lib/python3.8/_collections_abc.py:832: MatplotlibDeprecationWarning: Support for setting the 'text.latex.preamble' or 'pgf.preamble' rcParam to a list of strings is deprecated since 3.3 and will be removed two minor releases later; set it to a single string instead.\n",
      "  self[key] = other[key]\n"
     ]
    }
   ],
   "source": [
    "import matplotlib.pyplot as plt\n",
    "import richardsplot as rplot\n",
    "import numpy as np\n",
    "import pandas as pd\n",
    "plt.rcParams['xtick.top'] = True\n",
    "plt.rcParams['ytick.right'] = True"
   ]
  },
  {
   "cell_type": "code",
   "execution_count": 2,
   "metadata": {},
   "outputs": [
    {
     "data": {
      "text/html": [
       "<div>\n",
       "<style scoped>\n",
       "    .dataframe tbody tr th:only-of-type {\n",
       "        vertical-align: middle;\n",
       "    }\n",
       "\n",
       "    .dataframe tbody tr th {\n",
       "        vertical-align: top;\n",
       "    }\n",
       "\n",
       "    .dataframe thead th {\n",
       "        text-align: right;\n",
       "    }\n",
       "</style>\n",
       "<table border=\"1\" class=\"dataframe\">\n",
       "  <thead>\n",
       "    <tr style=\"text-align: right;\">\n",
       "      <th></th>\n",
       "      <th>Name</th>\n",
       "      <th>Maj</th>\n",
       "      <th>Min</th>\n",
       "      <th>S1p4_FIRST</th>\n",
       "      <th>S1p4_err</th>\n",
       "      <th>A_morph</th>\n",
       "      <th>C_morph</th>\n",
       "      <th>Flux</th>\n",
       "      <th>FluxErr</th>\n",
       "      <th>PFimfit</th>\n",
       "      <th>...</th>\n",
       "      <th>logL</th>\n",
       "      <th>i</th>\n",
       "      <th>I_2a</th>\n",
       "      <th>MI_Z2</th>\n",
       "      <th>LOGL2500</th>\n",
       "      <th>R</th>\n",
       "      <th>LD_cm</th>\n",
       "      <th>Kell_Ratio</th>\n",
       "      <th>logL6GHz [W/Hz]</th>\n",
       "      <th>MJD_dr7</th>\n",
       "    </tr>\n",
       "  </thead>\n",
       "  <tbody>\n",
       "    <tr>\n",
       "      <th>0</th>\n",
       "      <td>0808+4407</td>\n",
       "      <td>472.0</td>\n",
       "      <td>237.0</td>\n",
       "      <td>NaN</td>\n",
       "      <td>NaN</td>\n",
       "      <td>U</td>\n",
       "      <td>U</td>\n",
       "      <td>36.3</td>\n",
       "      <td>8.300000</td>\n",
       "      <td>36.3</td>\n",
       "      <td>...</td>\n",
       "      <td>22.12</td>\n",
       "      <td>17.615</td>\n",
       "      <td>-22.58</td>\n",
       "      <td>-23.605438</td>\n",
       "      <td>29.601365</td>\n",
       "      <td>0.19</td>\n",
       "      <td>4.389983e+27</td>\n",
       "      <td>0.6</td>\n",
       "      <td>21.901570</td>\n",
       "      <td>NaN</td>\n",
       "    </tr>\n",
       "    <tr>\n",
       "      <th>1</th>\n",
       "      <td>0816+4258</td>\n",
       "      <td>153.0</td>\n",
       "      <td>105.0</td>\n",
       "      <td>NaN</td>\n",
       "      <td>NaN</td>\n",
       "      <td>SR</td>\n",
       "      <td>U</td>\n",
       "      <td>199.0</td>\n",
       "      <td>14.000000</td>\n",
       "      <td>178.5</td>\n",
       "      <td>...</td>\n",
       "      <td>22.54</td>\n",
       "      <td>16.636</td>\n",
       "      <td>-23.21</td>\n",
       "      <td>-23.978752</td>\n",
       "      <td>29.750691</td>\n",
       "      <td>0.29</td>\n",
       "      <td>3.651811e+27</td>\n",
       "      <td>0.9</td>\n",
       "      <td>22.485202</td>\n",
       "      <td>NaN</td>\n",
       "    </tr>\n",
       "    <tr>\n",
       "      <th>2</th>\n",
       "      <td>0822+4553</td>\n",
       "      <td>150.0</td>\n",
       "      <td>89.0</td>\n",
       "      <td>427</td>\n",
       "      <td>127.0</td>\n",
       "      <td>M</td>\n",
       "      <td>U</td>\n",
       "      <td>531.0</td>\n",
       "      <td>33.015148</td>\n",
       "      <td>425.0</td>\n",
       "      <td>...</td>\n",
       "      <td>22.77</td>\n",
       "      <td>17.695</td>\n",
       "      <td>-22.69</td>\n",
       "      <td>-23.688601</td>\n",
       "      <td>29.634631</td>\n",
       "      <td>0.73</td>\n",
       "      <td>4.852865e+27</td>\n",
       "      <td>2.4</td>\n",
       "      <td>23.151097</td>\n",
       "      <td>51868.0</td>\n",
       "    </tr>\n",
       "    <tr>\n",
       "      <th>3</th>\n",
       "      <td>0834+3826</td>\n",
       "      <td>238.0</td>\n",
       "      <td>39.0</td>\n",
       "      <td>NaN</td>\n",
       "      <td>NaN</td>\n",
       "      <td>U</td>\n",
       "      <td>U</td>\n",
       "      <td>116.8</td>\n",
       "      <td>7.100000</td>\n",
       "      <td>116.8</td>\n",
       "      <td>...</td>\n",
       "      <td>22.49</td>\n",
       "      <td>17.527</td>\n",
       "      <td>-22.77</td>\n",
       "      <td>-23.800290</td>\n",
       "      <td>29.679306</td>\n",
       "      <td>0.36</td>\n",
       "      <td>4.629499e+27</td>\n",
       "      <td>0.9</td>\n",
       "      <td>22.453822</td>\n",
       "      <td>NaN</td>\n",
       "    </tr>\n",
       "    <tr>\n",
       "      <th>4</th>\n",
       "      <td>0843+5357</td>\n",
       "      <td>838.0</td>\n",
       "      <td>168.0</td>\n",
       "      <td>516</td>\n",
       "      <td>150.0</td>\n",
       "      <td>E</td>\n",
       "      <td>U</td>\n",
       "      <td>349.0</td>\n",
       "      <td>31.000000</td>\n",
       "      <td>122.8</td>\n",
       "      <td>...</td>\n",
       "      <td>22.72</td>\n",
       "      <td>16.440</td>\n",
       "      <td>-23.25</td>\n",
       "      <td>-23.912282</td>\n",
       "      <td>29.724103</td>\n",
       "      <td>0.43</td>\n",
       "      <td>3.371040e+27</td>\n",
       "      <td>0.9</td>\n",
       "      <td>22.661519</td>\n",
       "      <td>NaN</td>\n",
       "    </tr>\n",
       "    <tr>\n",
       "      <th>...</th>\n",
       "      <td>...</td>\n",
       "      <td>...</td>\n",
       "      <td>...</td>\n",
       "      <td>...</td>\n",
       "      <td>...</td>\n",
       "      <td>...</td>\n",
       "      <td>...</td>\n",
       "      <td>...</td>\n",
       "      <td>...</td>\n",
       "      <td>...</td>\n",
       "      <td>...</td>\n",
       "      <td>...</td>\n",
       "      <td>...</td>\n",
       "      <td>...</td>\n",
       "      <td>...</td>\n",
       "      <td>...</td>\n",
       "      <td>...</td>\n",
       "      <td>...</td>\n",
       "      <td>...</td>\n",
       "      <td>...</td>\n",
       "      <td>...</td>\n",
       "    </tr>\n",
       "    <tr>\n",
       "      <th>123</th>\n",
       "      <td>1630+4711</td>\n",
       "      <td>448.0</td>\n",
       "      <td>27.0</td>\n",
       "      <td>NaN</td>\n",
       "      <td>NaN</td>\n",
       "      <td>U</td>\n",
       "      <td>U</td>\n",
       "      <td>33.9</td>\n",
       "      <td>5.600000</td>\n",
       "      <td>33.9</td>\n",
       "      <td>...</td>\n",
       "      <td>22.12</td>\n",
       "      <td>16.910</td>\n",
       "      <td>-23.25</td>\n",
       "      <td>-24.232540</td>\n",
       "      <td>29.852206</td>\n",
       "      <td>0.10</td>\n",
       "      <td>4.298551e+27</td>\n",
       "      <td>0.5</td>\n",
       "      <td>21.854134</td>\n",
       "      <td>NaN</td>\n",
       "    </tr>\n",
       "    <tr>\n",
       "      <th>124</th>\n",
       "      <td>1631+4048</td>\n",
       "      <td>0.0</td>\n",
       "      <td>0.0</td>\n",
       "      <td>NaN</td>\n",
       "      <td>NaN</td>\n",
       "      <td>U</td>\n",
       "      <td>U</td>\n",
       "      <td>26.6</td>\n",
       "      <td>4.600000</td>\n",
       "      <td>26.6</td>\n",
       "      <td>...</td>\n",
       "      <td>21.97</td>\n",
       "      <td>17.094</td>\n",
       "      <td>-22.96</td>\n",
       "      <td>-23.884491</td>\n",
       "      <td>29.712987</td>\n",
       "      <td>0.09</td>\n",
       "      <td>4.080699e+27</td>\n",
       "      <td>0.5</td>\n",
       "      <td>21.704976</td>\n",
       "      <td>NaN</td>\n",
       "    </tr>\n",
       "    <tr>\n",
       "      <th>125</th>\n",
       "      <td>1631+2953</td>\n",
       "      <td>0.0</td>\n",
       "      <td>0.0</td>\n",
       "      <td>NaN</td>\n",
       "      <td>NaN</td>\n",
       "      <td>U</td>\n",
       "      <td>U</td>\n",
       "      <td>67.6</td>\n",
       "      <td>5.700000</td>\n",
       "      <td>67.6</td>\n",
       "      <td>...</td>\n",
       "      <td>22.35</td>\n",
       "      <td>16.707</td>\n",
       "      <td>-23.32</td>\n",
       "      <td>-24.207522</td>\n",
       "      <td>29.842199</td>\n",
       "      <td>0.17</td>\n",
       "      <td>4.008582e+27</td>\n",
       "      <td>0.5</td>\n",
       "      <td>22.095001</td>\n",
       "      <td>NaN</td>\n",
       "    </tr>\n",
       "    <tr>\n",
       "      <th>126</th>\n",
       "      <td>1703+1910</td>\n",
       "      <td>0.0</td>\n",
       "      <td>0.0</td>\n",
       "      <td>NaN</td>\n",
       "      <td>NaN</td>\n",
       "      <td>ND</td>\n",
       "      <td>U</td>\n",
       "      <td>11.4</td>\n",
       "      <td>0.000000</td>\n",
       "      <td>11.4</td>\n",
       "      <td>...</td>\n",
       "      <td>21.71</td>\n",
       "      <td>17.203</td>\n",
       "      <td>-23.11</td>\n",
       "      <td>-24.171656</td>\n",
       "      <td>29.827853</td>\n",
       "      <td>0.04</td>\n",
       "      <td>4.666576e+27</td>\n",
       "      <td>0.5</td>\n",
       "      <td>21.449994</td>\n",
       "      <td>NaN</td>\n",
       "    </tr>\n",
       "    <tr>\n",
       "      <th>127</th>\n",
       "      <td>1727+6322</td>\n",
       "      <td>2040.0</td>\n",
       "      <td>980.0</td>\n",
       "      <td>1090</td>\n",
       "      <td>130.0</td>\n",
       "      <td>E</td>\n",
       "      <td>U</td>\n",
       "      <td>670.0</td>\n",
       "      <td>82.000000</td>\n",
       "      <td>53.6</td>\n",
       "      <td>...</td>\n",
       "      <td>22.97</td>\n",
       "      <td>16.730</td>\n",
       "      <td>-22.95</td>\n",
       "      <td>-23.666411</td>\n",
       "      <td>29.625755</td>\n",
       "      <td>0.99</td>\n",
       "      <td>3.353631e+27</td>\n",
       "      <td>0.9</td>\n",
       "      <td>22.940386</td>\n",
       "      <td>NaN</td>\n",
       "    </tr>\n",
       "  </tbody>\n",
       "</table>\n",
       "<p>128 rows × 75 columns</p>\n",
       "</div>"
      ],
      "text/plain": [
       "          Name     Maj    Min S1p4_FIRST  S1p4_err A_morph C_morph   Flux  \\\n",
       "0    0808+4407   472.0  237.0        NaN       NaN       U       U   36.3   \n",
       "1    0816+4258   153.0  105.0        NaN       NaN      SR       U  199.0   \n",
       "2    0822+4553   150.0   89.0        427     127.0       M       U  531.0   \n",
       "3    0834+3826   238.0   39.0        NaN       NaN       U       U  116.8   \n",
       "4    0843+5357   838.0  168.0        516     150.0       E       U  349.0   \n",
       "..         ...     ...    ...        ...       ...     ...     ...    ...   \n",
       "123  1630+4711   448.0   27.0        NaN       NaN       U       U   33.9   \n",
       "124  1631+4048     0.0    0.0        NaN       NaN       U       U   26.6   \n",
       "125  1631+2953     0.0    0.0        NaN       NaN       U       U   67.6   \n",
       "126  1703+1910     0.0    0.0        NaN       NaN      ND       U   11.4   \n",
       "127  1727+6322  2040.0  980.0       1090     130.0       E       U  670.0   \n",
       "\n",
       "       FluxErr  PFimfit  ...   logL       i   I_2a      MI_Z2   LOGL2500  \\\n",
       "0     8.300000     36.3  ...  22.12  17.615 -22.58 -23.605438  29.601365   \n",
       "1    14.000000    178.5  ...  22.54  16.636 -23.21 -23.978752  29.750691   \n",
       "2    33.015148    425.0  ...  22.77  17.695 -22.69 -23.688601  29.634631   \n",
       "3     7.100000    116.8  ...  22.49  17.527 -22.77 -23.800290  29.679306   \n",
       "4    31.000000    122.8  ...  22.72  16.440 -23.25 -23.912282  29.724103   \n",
       "..         ...      ...  ...    ...     ...    ...        ...        ...   \n",
       "123   5.600000     33.9  ...  22.12  16.910 -23.25 -24.232540  29.852206   \n",
       "124   4.600000     26.6  ...  21.97  17.094 -22.96 -23.884491  29.712987   \n",
       "125   5.700000     67.6  ...  22.35  16.707 -23.32 -24.207522  29.842199   \n",
       "126   0.000000     11.4  ...  21.71  17.203 -23.11 -24.171656  29.827853   \n",
       "127  82.000000     53.6  ...  22.97  16.730 -22.95 -23.666411  29.625755   \n",
       "\n",
       "        R         LD_cm Kell_Ratio logL6GHz [W/Hz]  MJD_dr7  \n",
       "0    0.19  4.389983e+27        0.6       21.901570      NaN  \n",
       "1    0.29  3.651811e+27        0.9       22.485202      NaN  \n",
       "2    0.73  4.852865e+27        2.4       23.151097  51868.0  \n",
       "3    0.36  4.629499e+27        0.9       22.453822      NaN  \n",
       "4    0.43  3.371040e+27        0.9       22.661519      NaN  \n",
       "..    ...           ...        ...             ...      ...  \n",
       "123  0.10  4.298551e+27        0.5       21.854134      NaN  \n",
       "124  0.09  4.080699e+27        0.5       21.704976      NaN  \n",
       "125  0.17  4.008582e+27        0.5       22.095001      NaN  \n",
       "126  0.04  4.666576e+27        0.5       21.449994      NaN  \n",
       "127  0.99  3.353631e+27        0.9       22.940386      NaN  \n",
       "\n",
       "[128 rows x 75 columns]"
      ]
     },
     "execution_count": 2,
     "metadata": {},
     "output_type": "execute_result"
    }
   ],
   "source": [
    "df = pd.read_csv(\"RQQfigs.csv\")\n",
    "df"
   ]
  },
  {
   "cell_type": "code",
   "execution_count": 3,
   "metadata": {},
   "outputs": [],
   "source": [
    "RAoff = df[[\"RAoff\"]].values.flatten()\n",
    "DECoff= df[[\"DECoff\"]].values.flatten()"
   ]
  },
  {
   "cell_type": "code",
   "execution_count": 4,
   "metadata": {},
   "outputs": [],
   "source": [
    "noise = np.random.uniform(-.005, .005, (2, len(RAoff)))"
   ]
  },
  {
   "cell_type": "code",
   "execution_count": 6,
   "metadata": {},
   "outputs": [
    {
     "data": {
      "image/png": "[encoded data removed]",
      "text/plain": [
       "<Figure size 720x720 with 1 Axes>"
      ]
     },
     "metadata": {
      "needs_background": "light"
     },
     "output_type": "display_data"
    }
   ],
   "source": [
    "fig = plt.figure(figsize=(10,10))\n",
    "\n",
    "circle1 = plt.Circle((0, 0), 0.1, facecolor='None', edgecolor=\"k\", \n",
    "                     linewidth=2, linestyle=\"--\")\n",
    "plt.gca().add_artist(circle1)\n",
    "\n",
    "plt.scatter(RAoff+.05+noise[0], DECoff-.02+noise[1], color=rplot.csdark[0])\n",
    "plt.scatter(.345, .17, color=rplot.csdark[0])\n",
    "\n",
    "plt.xlabel(\"$\\Delta$RA [arcsec]\", fontsize=37.5)\n",
    "plt.ylabel(\"$\\Delta$Decl. [arcsec]\", fontsize=35)\n",
    "plt.xlim(-0.365, 0.365)\n",
    "plt.ylim(-0.365, 0.365)\n",
    "plt.tick_params(axis='both', which='major', labelsize=30)\n",
    "\n",
    "fig.text(0.4, 0.875, \"Radio-optical Positional Offsets\", fontsize=30)\n",
    "\n",
    "plt.tight_layout()\n",
    "plt.savefig(\"PaperPlots/position_offsets.pdf\")\n",
    "plt.show()"
   ]
  },
  {
   "cell_type": "code",
   "execution_count": 7,
   "metadata": {},
   "outputs": [],
   "source": [
    "import numpy as np"
   ]
  },
  {
   "cell_type": "code",
   "execution_count": 8,
   "metadata": {},
   "outputs": [
    {
     "data": {
      "text/plain": [
       "41"
      ]
     },
     "execution_count": 8,
     "metadata": {},
     "output_type": "execute_result"
    }
   ],
   "source": [
    "np.argmax(RAoff)"
   ]
  },
  {
   "cell_type": "markdown",
   "metadata": {},
   "source": [
    "The limits above cut out one source with larger angular offsets: 1102+0844"
   ]
  },
  {
   "cell_type": "code",
   "execution_count": 9,
   "metadata": {},
   "outputs": [
    {
     "data": {
      "text/plain": [
       "Index(['Name', 'Maj', 'Min', 'S1p4_FIRST', 'S1p4_err', 'A_morph', 'C_morph',\n",
       "       'Flux', 'FluxErr', 'PFimfit', 'PFerrimfit', 'S6_core (uJy)',\n",
       "       'S6_core_err (uJy)', 'Sa/Sc', 'SB', 'VLBA', 'z', 'L6_NVSS',\n",
       "       'L6_NVSS_alpha0', 'DATE_NVSS', 'L6_FIRST', 'L6_FIRST_alpha0',\n",
       "       'DATE_FIRST', 'L6_VLASS', 'L6_VLASS_alpha0', 'DATE_VLASS', 'DATE_VLAA',\n",
       "       'DATE_VLAC', 'SDSSName', 'S(6)_t', 'pmt', 'RAobs_1', 'RAoff',\n",
       "       'DECobs_1', 'DECoff', 'sz_maj', 'szmajerr', 'sz_min', 'szminerr', 'PA',\n",
       "       'PAerr', 'IFimfit', 'IFerrimfit', 'IFimfitSF', 'IFerrimfitSF',\n",
       "       'PFimfitSF', 'PFerrimfitSF', 'Detection', 'Freq.', 'RO_Offset', 'RMS',\n",
       "       'PF', 'PF_err', 'IF', 'IF_err', 'S/N', 'Resolved', 'SelfCal', 'Flags',\n",
       "       'RAobs_Kell', 'Decobs_Kell', 'delta', 'S(6)_p', 'pmp', 'f_c', 'logL',\n",
       "       'i', 'I_2a', 'MI_Z2', 'LOGL2500', 'R', 'LD_cm', 'Kell_Ratio',\n",
       "       'logL6GHz [W/Hz]', 'MJD_dr7'],\n",
       "      dtype='object')"
      ]
     },
     "execution_count": 9,
     "metadata": {},
     "output_type": "execute_result"
    }
   ],
   "source": [
    "df.columns"
   ]
  },
  {
   "cell_type": "code",
   "execution_count": 10,
   "metadata": {},
   "outputs": [],
   "source": [
    "Stot = df[[\"Flux\"]].values.flatten()\n",
    "Score= df[[\"S6_core (uJy)\"]].values.flatten()\n",
    "name = df[[\"Name\"]].values.flatten()"
   ]
  },
  {
   "cell_type": "code",
   "execution_count": 11,
   "metadata": {},
   "outputs": [],
   "source": [
    "#want to plot these sources differently\n",
    "special = [\"0935+4819\", \"1118+3103\", \"1146+3715\", \"1233+6443\"]"
   ]
  },
  {
   "cell_type": "code",
   "execution_count": 15,
   "metadata": {},
   "outputs": [
    {
     "data": {
      "image/png": "[encoded data removed]",
      "text/plain": [
       "<Figure size 720x720 with 1 Axes>"
      ]
     },
     "metadata": {
      "needs_background": "light"
     },
     "output_type": "display_data"
    }
   ],
   "source": [
    "fig = plt.figure(figsize=(10,10))\n",
    "\n",
    "for i in range(len(Score)):\n",
    "    if name[i] in special:\n",
    "        plt.scatter(Score[i], Stot[i], color=rplot.csdark[0], edgecolor=\"k\", marker=\"*\", s=300, zorder=2)\n",
    "    else:\n",
    "        plt.scatter(Score[i], Stot[i], color=rplot.csdark[0])\n",
    "\n",
    "plt.xlabel(\"$S_\\mathrm{core}$ [$\\mu$Jy\\,beam$^{-1}$]\", fontsize=37.5)\n",
    "plt.ylabel(\"$S_\\mathrm{total}$ [$\\mu$Jy]\", fontsize=35)\n",
    "plt.tick_params(axis='both', which='major', labelsize=30)\n",
    "plt.gca().set_xticks([0,100,200,300,400,500,600])\n",
    "\n",
    "plt.tight_layout()\n",
    "plt.savefig(\"PaperPlots/Stot_vs_Score.pdf\")\n",
    "plt.show()"
   ]
  },
  {
   "cell_type": "markdown",
   "metadata": {},
   "source": [
    "Make the same plot as above on a log scale"
   ]
  },
  {
   "cell_type": "code",
   "execution_count": 14,
   "metadata": {},
   "outputs": [
    {
     "data": {
      "image/png": "[encoded data removed]",
      "text/plain": [
       "<Figure size 648x648 with 1 Axes>"
      ]
     },
     "metadata": {
      "needs_background": "light"
     },
     "output_type": "display_data"
    }
   ],
   "source": [
    "fig = plt.figure(figsize=(9,9))\n",
    "\n",
    "for i in range(len(Score)):\n",
    "    if name[i] in special:\n",
    "        plt.scatter(Score[i], Stot[i], color=rplot.csdark[0], edgecolor=\"k\", marker=\"*\", s=300, zorder=2)\n",
    "    else:\n",
    "        plt.scatter(Score[i], Stot[i], color=rplot.csdark[0])\n",
    "\n",
    "plt.xlabel(\"$S_\\mathrm{core}$ [$\\mu$Jy\\,bm$^{-1}$]\", fontsize=30)\n",
    "plt.ylabel(\"$S_\\mathrm{total}$ [$\\mu$Jy]\", fontsize=30)\n",
    "\n",
    "plt.tick_params(axis='both', which='major', labelsize=20)\n",
    "\n",
    "plt.tight_layout()\n",
    "plt.xscale(\"log\")\n",
    "plt.yscale(\"log\")\n",
    "plt.savefig(\"PaperPlots/Stot_vs_Score_log.pdf\")\n",
    "plt.show()"
   ]
  },
  {
   "cell_type": "code",
   "execution_count": null,
   "metadata": {},
   "outputs": [],
   "source": []
  }
 ],
 "metadata": {
  "kernelspec": {
   "display_name": "Python 3",
   "language": "python",
   "name": "python3"
  },
  "language_info": {
   "codemirror_mode": {
    "name": "ipython",
    "version": 3
   },
   "file_extension": ".py",
   "mimetype": "text/x-python",
   "name": "python",
   "nbconvert_exporter": "python",
   "pygments_lexer": "ipython3",
   "version": "3.8.8"
  }
 },
 "nbformat": 4,
 "nbformat_minor": 4
}
