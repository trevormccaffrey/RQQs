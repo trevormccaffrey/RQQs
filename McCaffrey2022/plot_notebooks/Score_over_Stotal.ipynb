{
 "cells": [
  {
   "cell_type": "code",
   "execution_count": 15,
   "metadata": {},
   "outputs": [],
   "source": [
    "import numpy as np\n",
    "import pandas as pd\n",
    "import matplotlib\n",
    "import matplotlib.pyplot as plt\n",
    "import richardsplot as rplot\n",
    "plt.rcParams['xtick.top'] = True\n",
    "plt.rcParams['ytick.right'] = True"
   ]
  },
  {
   "cell_type": "code",
   "execution_count": 16,
   "metadata": {},
   "outputs": [
    {
     "data": {
      "text/html": [
       "<div>\n",
       "<style scoped>\n",
       "    .dataframe tbody tr th:only-of-type {\n",
       "        vertical-align: middle;\n",
       "    }\n",
       "\n",
       "    .dataframe tbody tr th {\n",
       "        vertical-align: top;\n",
       "    }\n",
       "\n",
       "    .dataframe thead th {\n",
       "        text-align: right;\n",
       "    }\n",
       "</style>\n",
       "<table border=\"1\" class=\"dataframe\">\n",
       "  <thead>\n",
       "    <tr style=\"text-align: right;\">\n",
       "      <th></th>\n",
       "      <th>Name</th>\n",
       "      <th>Maj</th>\n",
       "      <th>Min</th>\n",
       "      <th>S1p4_FIRST</th>\n",
       "      <th>S1p4_err</th>\n",
       "      <th>A_morph</th>\n",
       "      <th>C_morph</th>\n",
       "      <th>Flux</th>\n",
       "      <th>FluxErr</th>\n",
       "      <th>PFimfit</th>\n",
       "      <th>...</th>\n",
       "      <th>logL</th>\n",
       "      <th>i</th>\n",
       "      <th>I_2a</th>\n",
       "      <th>MI_Z2</th>\n",
       "      <th>LOGL2500</th>\n",
       "      <th>R</th>\n",
       "      <th>LD_cm</th>\n",
       "      <th>Kell_Ratio</th>\n",
       "      <th>logL6GHz [W/Hz]</th>\n",
       "      <th>MJD_dr7</th>\n",
       "    </tr>\n",
       "  </thead>\n",
       "  <tbody>\n",
       "    <tr>\n",
       "      <th>0</th>\n",
       "      <td>0808+4407</td>\n",
       "      <td>472.0</td>\n",
       "      <td>237.0</td>\n",
       "      <td>NaN</td>\n",
       "      <td>NaN</td>\n",
       "      <td>U</td>\n",
       "      <td>U</td>\n",
       "      <td>36.3</td>\n",
       "      <td>8.300000</td>\n",
       "      <td>36.3</td>\n",
       "      <td>...</td>\n",
       "      <td>22.12</td>\n",
       "      <td>17.615</td>\n",
       "      <td>-22.58</td>\n",
       "      <td>-23.605438</td>\n",
       "      <td>29.601365</td>\n",
       "      <td>0.19</td>\n",
       "      <td>4.389983e+27</td>\n",
       "      <td>0.6</td>\n",
       "      <td>21.901570</td>\n",
       "      <td>NaN</td>\n",
       "    </tr>\n",
       "    <tr>\n",
       "      <th>1</th>\n",
       "      <td>0816+4258</td>\n",
       "      <td>153.0</td>\n",
       "      <td>105.0</td>\n",
       "      <td>NaN</td>\n",
       "      <td>NaN</td>\n",
       "      <td>SR</td>\n",
       "      <td>U</td>\n",
       "      <td>199.0</td>\n",
       "      <td>14.000000</td>\n",
       "      <td>178.5</td>\n",
       "      <td>...</td>\n",
       "      <td>22.54</td>\n",
       "      <td>16.636</td>\n",
       "      <td>-23.21</td>\n",
       "      <td>-23.978752</td>\n",
       "      <td>29.750691</td>\n",
       "      <td>0.29</td>\n",
       "      <td>3.651811e+27</td>\n",
       "      <td>0.9</td>\n",
       "      <td>22.485202</td>\n",
       "      <td>NaN</td>\n",
       "    </tr>\n",
       "    <tr>\n",
       "      <th>2</th>\n",
       "      <td>0822+4553</td>\n",
       "      <td>150.0</td>\n",
       "      <td>89.0</td>\n",
       "      <td>427</td>\n",
       "      <td>127.0</td>\n",
       "      <td>M</td>\n",
       "      <td>U</td>\n",
       "      <td>531.0</td>\n",
       "      <td>33.015148</td>\n",
       "      <td>425.0</td>\n",
       "      <td>...</td>\n",
       "      <td>22.77</td>\n",
       "      <td>17.695</td>\n",
       "      <td>-22.69</td>\n",
       "      <td>-23.688601</td>\n",
       "      <td>29.634631</td>\n",
       "      <td>0.73</td>\n",
       "      <td>4.852865e+27</td>\n",
       "      <td>2.4</td>\n",
       "      <td>23.151097</td>\n",
       "      <td>51868.0</td>\n",
       "    </tr>\n",
       "    <tr>\n",
       "      <th>3</th>\n",
       "      <td>0834+3826</td>\n",
       "      <td>238.0</td>\n",
       "      <td>39.0</td>\n",
       "      <td>NaN</td>\n",
       "      <td>NaN</td>\n",
       "      <td>U</td>\n",
       "      <td>U</td>\n",
       "      <td>116.8</td>\n",
       "      <td>7.100000</td>\n",
       "      <td>116.8</td>\n",
       "      <td>...</td>\n",
       "      <td>22.49</td>\n",
       "      <td>17.527</td>\n",
       "      <td>-22.77</td>\n",
       "      <td>-23.800290</td>\n",
       "      <td>29.679306</td>\n",
       "      <td>0.36</td>\n",
       "      <td>4.629499e+27</td>\n",
       "      <td>0.9</td>\n",
       "      <td>22.453822</td>\n",
       "      <td>NaN</td>\n",
       "    </tr>\n",
       "    <tr>\n",
       "      <th>4</th>\n",
       "      <td>0843+5357</td>\n",
       "      <td>838.0</td>\n",
       "      <td>168.0</td>\n",
       "      <td>516</td>\n",
       "      <td>150.0</td>\n",
       "      <td>E</td>\n",
       "      <td>U</td>\n",
       "      <td>349.0</td>\n",
       "      <td>31.000000</td>\n",
       "      <td>122.8</td>\n",
       "      <td>...</td>\n",
       "      <td>22.72</td>\n",
       "      <td>16.440</td>\n",
       "      <td>-23.25</td>\n",
       "      <td>-23.912282</td>\n",
       "      <td>29.724103</td>\n",
       "      <td>0.43</td>\n",
       "      <td>3.371040e+27</td>\n",
       "      <td>0.9</td>\n",
       "      <td>22.661519</td>\n",
       "      <td>NaN</td>\n",
       "    </tr>\n",
       "  </tbody>\n",
       "</table>\n",
       "<p>5 rows × 75 columns</p>\n",
       "</div>"
      ],
      "text/plain": [
       "        Name    Maj    Min S1p4_FIRST  S1p4_err A_morph C_morph   Flux  \\\n",
       "0  0808+4407  472.0  237.0        NaN       NaN       U       U   36.3   \n",
       "1  0816+4258  153.0  105.0        NaN       NaN      SR       U  199.0   \n",
       "2  0822+4553  150.0   89.0        427     127.0       M       U  531.0   \n",
       "3  0834+3826  238.0   39.0        NaN       NaN       U       U  116.8   \n",
       "4  0843+5357  838.0  168.0        516     150.0       E       U  349.0   \n",
       "\n",
       "     FluxErr  PFimfit  ...   logL       i   I_2a      MI_Z2   LOGL2500     R  \\\n",
       "0   8.300000     36.3  ...  22.12  17.615 -22.58 -23.605438  29.601365  0.19   \n",
       "1  14.000000    178.5  ...  22.54  16.636 -23.21 -23.978752  29.750691  0.29   \n",
       "2  33.015148    425.0  ...  22.77  17.695 -22.69 -23.688601  29.634631  0.73   \n",
       "3   7.100000    116.8  ...  22.49  17.527 -22.77 -23.800290  29.679306  0.36   \n",
       "4  31.000000    122.8  ...  22.72  16.440 -23.25 -23.912282  29.724103  0.43   \n",
       "\n",
       "          LD_cm Kell_Ratio logL6GHz [W/Hz]  MJD_dr7  \n",
       "0  4.389983e+27        0.6       21.901570      NaN  \n",
       "1  3.651811e+27        0.9       22.485202      NaN  \n",
       "2  4.852865e+27        2.4       23.151097  51868.0  \n",
       "3  4.629499e+27        0.9       22.453822      NaN  \n",
       "4  3.371040e+27        0.9       22.661519      NaN  \n",
       "\n",
       "[5 rows x 75 columns]"
      ]
     },
     "execution_count": 16,
     "metadata": {},
     "output_type": "execute_result"
    }
   ],
   "source": [
    "df = pd.read_csv(\"RQQfigs.csv\")\n",
    "df.head()"
   ]
  },
  {
   "cell_type": "code",
   "execution_count": 17,
   "metadata": {},
   "outputs": [
    {
     "data": {
      "text/plain": [
       "Index(['Name', 'Maj', 'Min', 'S1p4_FIRST', 'S1p4_err', 'A_morph', 'C_morph',\n",
       "       'Flux', 'FluxErr', 'PFimfit', 'PFerrimfit', 'S6_core (uJy)',\n",
       "       'S6_core_err (uJy)', 'Sa/Sc', 'SB', 'VLBA', 'z', 'L6_NVSS',\n",
       "       'L6_NVSS_alpha0', 'DATE_NVSS', 'L6_FIRST', 'L6_FIRST_alpha0',\n",
       "       'DATE_FIRST', 'L6_VLASS', 'L6_VLASS_alpha0', 'DATE_VLASS', 'DATE_VLAA',\n",
       "       'DATE_VLAC', 'SDSSName', 'S(6)_t', 'pmt', 'RAobs_1', 'RAoff',\n",
       "       'DECobs_1', 'DECoff', 'sz_maj', 'szmajerr', 'sz_min', 'szminerr', 'PA',\n",
       "       'PAerr', 'IFimfit', 'IFerrimfit', 'IFimfitSF', 'IFerrimfitSF',\n",
       "       'PFimfitSF', 'PFerrimfitSF', 'Detection', 'Freq.', 'RO_Offset', 'RMS',\n",
       "       'PF', 'PF_err', 'IF', 'IF_err', 'S/N', 'Resolved', 'SelfCal', 'Flags',\n",
       "       'RAobs_Kell', 'Decobs_Kell', 'delta', 'S(6)_p', 'pmp', 'f_c', 'logL',\n",
       "       'i', 'I_2a', 'MI_Z2', 'LOGL2500', 'R', 'LD_cm', 'Kell_Ratio',\n",
       "       'logL6GHz [W/Hz]', 'MJD_dr7'],\n",
       "      dtype='object')"
      ]
     },
     "execution_count": 17,
     "metadata": {},
     "output_type": "execute_result"
    }
   ],
   "source": [
    "df.columns"
   ]
  },
  {
   "cell_type": "code",
   "execution_count": 19,
   "metadata": {},
   "outputs": [],
   "source": [
    "Score = df[[\"S6_core (uJy)\"]].values.flatten()\n",
    "Stot  = df[[\"Flux\"]].values.flatten()\n",
    "ratio = (Score/Stot)[(Stot/Score)!=1.]"
   ]
  },
  {
   "cell_type": "code",
   "execution_count": 20,
   "metadata": {},
   "outputs": [
    {
     "data": {
      "text/plain": [
       "0.6501542750334668"
      ]
     },
     "execution_count": 20,
     "metadata": {},
     "output_type": "execute_result"
    }
   ],
   "source": [
    "np.mean(ratio)"
   ]
  },
  {
   "cell_type": "code",
   "execution_count": 22,
   "metadata": {},
   "outputs": [
    {
     "data": {
      "text/plain": [
       "<matplotlib.collections.PathCollection at 0x11c07c7b8>"
      ]
     },
     "execution_count": 22,
     "metadata": {},
     "output_type": "execute_result"
    },
    {
     "data": {
      "image/png": "[encoded data removed]",
      "text/plain": [
       "<Figure size 502.117x502.117 with 1 Axes>"
      ]
     },
     "metadata": {
      "needs_background": "light"
     },
     "output_type": "display_data"
    }
   ],
   "source": [
    "plt.scatter(Score, Stot)"
   ]
  },
  {
   "cell_type": "code",
   "execution_count": 23,
   "metadata": {},
   "outputs": [
    {
     "data": {
      "text/plain": [
       "0.6501542750334668"
      ]
     },
     "execution_count": 23,
     "metadata": {},
     "output_type": "execute_result"
    }
   ],
   "source": [
    "np.mean(ratio)"
   ]
  },
  {
   "cell_type": "code",
   "execution_count": 28,
   "metadata": {},
   "outputs": [
    {
     "data": {
      "image/png": "[encoded data removed]",
      "text/plain": [
       "<Figure size 720x720 with 1 Axes>"
      ]
     },
     "metadata": {
      "needs_background": "light"
     },
     "output_type": "display_data"
    }
   ],
   "source": [
    "fig = plt.figure(figsize=(10,10))\n",
    "fig.text(0.18, 0.7, \"Fraction of Flux Density in \\nCore for Resolved Sources\",\n",
    "        fontsize=32.5)\n",
    "\n",
    "bins = np.logspace(np.log10(np.min(ratio)), np.log10(np.max(ratio)), 12)\n",
    "\n",
    "plt.hist(ratio, color=rplot.csdark[0], edgecolor=\"k\", bins=bins)\n",
    "\n",
    "plt.xscale(\"log\")\n",
    "plt.gca().get_xaxis().set_major_formatter(matplotlib.ticker.ScalarFormatter())\n",
    "plt.tick_params(axis='both', which='major', labelsize=30)\n",
    "plt.xlabel(\"$S_\\mathrm{core}/S_\\mathrm{total}$\", fontsize=37.5)\n",
    "plt.ylabel(\"Number of Sources\", fontsize=35)\n",
    "plt.gca().set_xticks([0.2, 0.3, 0.5, 0.7, 1])\n",
    "plt.tight_layout()\n",
    "plt.savefig(\"PaperPlots/Score_over_Stot.pdf\")\n",
    "plt.show()"
   ]
  },
  {
   "cell_type": "code",
   "execution_count": null,
   "metadata": {},
   "outputs": [],
   "source": []
  }
 ],
 "metadata": {
  "kernelspec": {
   "display_name": "Python 3",
   "language": "python",
   "name": "python3"
  },
  "language_info": {
   "codemirror_mode": {
    "name": "ipython",
    "version": 3
   },
   "file_extension": ".py",
   "mimetype": "text/x-python",
   "name": "python",
   "nbconvert_exporter": "python",
   "pygments_lexer": "ipython3",
   "version": "3.8.8"
  }
 },
 "nbformat": 4,
 "nbformat_minor": 4
}
